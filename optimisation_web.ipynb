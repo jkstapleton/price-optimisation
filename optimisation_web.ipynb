{
 "cells": [
  {
   "cell_type": "markdown",
   "id": "786dd086",
   "metadata": {},
   "source": [
    "# Price Optimisation Model\n",
    "\n",
    "As stated in the equation below, **price elasticity of demand** measures how the demand for a product changes in response to a change in its price.\n",
    "\n",
    "**Price Elasticity of Demand = (% Change in Quantity) / (% Change in Price)**\n",
    "\n",
    "Understanding the relationship between price and demand enables companies to better predict customer behaviour and make more informed pricing decisions. This, in turn, allows businesses to optimise for profit by setting prices that balance demand with revenue goals.\n",
    "\n",
    "This project aims to plot the **elasticity curve** of a specific product using historical data from a now-defunct online e-commerce store ([source](https://www.kaggle.com/datasets/olistbr/brazilian-ecommerce)).\n",
    "\n",
    "Once the elasticity curve is established, we will use it to model revenue scenarios and determine an optimal price point.\n",
    "\n",
    "## Methodology\n",
    "\n",
    "1. **Data Exploration**  \n",
    "   Understand sales patterns, pricing behaviour, and demand characteristics.\n",
    "\n",
    "2. **Product Selection and Exploration**  \n",
    "   Choose a specific product with sufficient data for elasticity modelling and analyse the sales patterns.\n",
    "\n",
    "3. **Elasticity Curve and Revenue Modelling**  \n",
    "   Plot the elasticity curve and simulate revenue outcomes across different price points to identify the optimal pricing strategy.\n",
    "4. **Results and Challenges**\n",
    "   Analysing the results and discussing challenges faced along the way.\n"
   ]
  },
  {
   "cell_type": "markdown",
   "id": "082269fb",
   "metadata": {},
   "source": [
    "# 1. Data Exploration\n",
    "\n",
    "> transactional data is from september 2016 to 2020 April\n",
    "\n",
    "> over 112, 000 transactions over the period \n",
    "\n",
    "> 3067 original seller ids\n",
    "\n",
    "> Data cleaned before 2017 and after 2018-08 due to the inconsistency of the quantity of the data and therefore the inability to understand its legitamacy"
   ]
  },
  {
   "cell_type": "markdown",
   "id": "95e5437f",
   "metadata": {},
   "source": [
    "![image.png](./Graphs/Sales_overtime.png)\n"
   ]
  }
 ],
 "metadata": {
  "kernelspec": {
   "display_name": "Python 3",
   "language": "python",
   "name": "python3"
  },
  "language_info": {
   "codemirror_mode": {
    "name": "ipython",
    "version": 3
   },
   "file_extension": ".py",
   "mimetype": "text/x-python",
   "name": "python",
   "nbconvert_exporter": "python",
   "pygments_lexer": "ipython3",
   "version": "3.11.9"
  }
 },
 "nbformat": 4,
 "nbformat_minor": 5
}
