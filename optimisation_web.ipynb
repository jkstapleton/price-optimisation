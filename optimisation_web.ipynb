{
 "cells": [
  {
   "cell_type": "markdown",
   "id": "786dd086",
   "metadata": {},
   "source": [
    "# Price Optimisation Model\n",
    "\n",
    "As stated in the equation below, **price elasticity of demand** measures how the demand for a product changes in response to a change in its price.\n",
    "\n",
    "**Price Elasticity of Demand = (% Change in Quantity) / (% Change in Price)**\n",
    "\n",
    "Understanding the relationship between price and demand enables companies to better predict customer behaviour and make more informed pricing decisions. This, in turn, allows businesses to optimise for profit by setting prices that balance demand with revenue goals.\n",
    "\n",
    "This project aims to plot the **elasticity curve** of a specific product using historical data from a now-defunct online e-commerce store ([source](https://www.kaggle.com/datasets/olistbr/brazilian-ecommerce)).\n",
    "\n",
    "Once the elasticity curve is established, we will use it to model revenue scenarios and determine an optimal price point.\n",
    "\n",
    "## Methodology\n",
    "\n",
    "1. **Data Exploration**  \n",
    "   Understand sales patterns, pricing behaviour, and demand characteristics.\n",
    "\n",
    "2. **Product Selection and Exploration**  \n",
    "   Choose a specific product with sufficient data for elasticity modelling and analyse the sales patterns.\n",
    "\n",
    "3. **Elasticity Curve and Revenue Modelling**  \n",
    "   Plot the elasticity curve and simulate revenue outcomes across different price points to identify the optimal pricing strategy.\n",
    "\n",
    "4. **Results and Challenges**\n",
    "   Analysing the results and discussing challenges faced along the way.\n",
    "\n",
    "5. **Conclusion**\n",
    "   Summarising the model, challenges and findings\n"
   ]
  },
  {
   "cell_type": "markdown",
   "id": "082269fb",
   "metadata": {},
   "source": [
    "# 1. Data Exploration\n",
    "\n",
    "> Transactional data is from september 2016 to 2020 April\n",
    "\n",
    "> More than 98,000 transactions over the period \n",
    "\n",
    "> 2912 original seller IDs\n",
    "\n",
    "> Data omitted before 2017 and after 2018-08 due to the inconsistency seen in sales\n",
    "\n",
    "> Monthly sales saw rapid growth after october 2017 helped by Black Friday, which then leveled out and then dipping from May 2018 onwards.\n",
    "\n",
    "> Health and Beauty, Watches and bed bath and table are the three largest categories of sales "
   ]
  },
  {
   "cell_type": "markdown",
   "id": "30274fad",
   "metadata": {},
   "source": [
    "![image.png](./Graphs/metrics_snip.png)"
   ]
  },
  {
   "cell_type": "markdown",
   "id": "95e5437f",
   "metadata": {},
   "source": [
    "![image.png](./Graphs/Sales_overtime.png)\n"
   ]
  },
  {
   "cell_type": "markdown",
   "id": "e41a202c",
   "metadata": {},
   "source": [
    "\n",
    "![image.png](./Graphs/Monthly_sales.png)\n",
    "\n"
   ]
  },
  {
   "cell_type": "markdown",
   "id": "6da5ed79",
   "metadata": {},
   "source": [
    "![image.png](./Graphs/revenue_by_cat.png)"
   ]
  },
  {
   "cell_type": "markdown",
   "id": "f7a57d3b",
   "metadata": {},
   "source": [
    "# 2. Product Selection and Analysis\n",
    "\n",
    "The product selection is based on two key criteria:  \n",
    "- The number of unique price points  \n",
    "- The quantity of sales  \n",
    "\n",
    "These factors ensure that the elasticity curve can be accurately populated and modeled.\n",
    "\n",
    "Based on the data analysis, the product with ID `e0d64dcfaa3b6db5c54ca298ae101d05` has been selected for price optimisation. This product was chosen due to its sufficient number of unique prices and a high volume of orders, which provides a robust dataset for elasticity analysis.\n",
    "\n",
    "This product is a **watch**, with prices ranging from **124.90** to **255.61**.\n",
    "\n",
    "Units sold have doubled after **February 2018**, driven by two main factors:  \n",
    "1. An overall increase in website traffic, as observed during the initial data exploration.  \n",
    "2. A decrease in average price over time.\n",
    "\n",
    "When breaking the data down by seller, it becomes clear that seller `4869f7a5dfa277a7dca6462dcf3b52b2` played a key role in driving the price down after **January 2018**. This aggressive pricing strategy allowed them to capture the majority of the market share and effectively set a new market price for the product.\n"
   ]
  },
  {
   "cell_type": "markdown",
   "id": "fc5b1f81",
   "metadata": {},
   "source": [
    "![image.png](./Graphs/no_of_prices.png)"
   ]
  },
  {
   "cell_type": "markdown",
   "id": "11858840",
   "metadata": {},
   "source": [
    "![image.png](./Graphs/Units_over_time.png)"
   ]
  },
  {
   "cell_type": "markdown",
   "id": "af5c1dfd",
   "metadata": {},
   "source": [
    "![image.png](./Graphs/AVG_PRICE.png)"
   ]
  },
  {
   "cell_type": "markdown",
   "id": "f0f94e41",
   "metadata": {},
   "source": [
    "\n",
    "![image.png](./Graphs/AVG_PRICE_SELLER.png)"
   ]
  },
  {
   "cell_type": "markdown",
   "id": "b5d796d2",
   "metadata": {},
   "source": [
    "\n",
    "![image.png](./Graphs/SALES_BY_SELLER.png)"
   ]
  },
  {
   "cell_type": "markdown",
   "id": "672f4eba",
   "metadata": {},
   "source": [
    "# 3. Elasticity Curve and Revenue Modelling\n",
    "\n",
    "Expectile Generalized Additive Models (GAMs) are used to capture the relationship between **quantity demanded** and **price**. Unlike simple linear models, GAMs apply smooth, flexible curves to better represent non-linear relationships. \n",
    "\n",
    "Expectile GAMs use an **asymmetric squared loss**, allowing the model to focus on different parts of the distribution. This enables us to estimate not just the median relationship, but also **optimistic and pessimistic scenarios**. \n",
    "\n",
    "Specifically, we model the **0.025, 0.5 (median), and 0.975 expectiles**, representing:\n",
    "- **Worst-case** demand response (0.025 expectile)\n",
    "- **Typical** or median demand response (0.5 expectile)\n",
    "- **Best-case** demand response (0.975 expectile)\n",
    "\n",
    "This approach provides a comprehensive view of how quantity responds to price changes under varying conditions, which is crucial for accurate revenue modeling.\n",
    "\n",
    "After these cases were modelled the expected revenue was derived and graphed for the associated gam scenarios, overlaying the best case prices and quantities which were existant along the scenarios."
   ]
  },
  {
   "cell_type": "markdown",
   "id": "ff8126f8",
   "metadata": {},
   "source": [
    "\n",
    "![image.png](./Graphs/QUANTITY_BY_SALES.png)\n"
   ]
  },
  {
   "cell_type": "markdown",
   "id": "fd3a485e",
   "metadata": {},
   "source": [
    "![image.png](./Graphs/QUANTILE_GAMS.png)\n"
   ]
  },
  {
   "cell_type": "markdown",
   "id": "38bddad9",
   "metadata": {},
   "source": [
    "![image.png](./Graphs/EXPECTED_REVENUE_OG.png)"
   ]
  },
  {
   "cell_type": "markdown",
   "id": "7d180c6b",
   "metadata": {},
   "source": [
    "![image.png](./Graphs/EXPECTED_REVENUE.png)"
   ]
  },
  {
   "cell_type": "markdown",
   "id": "af6048f4",
   "metadata": {},
   "source": [
    "# 4. Results and Challenges"
   ]
  },
  {
   "cell_type": "markdown",
   "id": "1a9e57bc",
   "metadata": {},
   "source": [
    "## Results\n",
    "\n",
    "Based on the top expected revenue scenarios modeled from the elasticity curve, the recommended pricing strategy moving forward — *ceteris paribus* — is to maintain prices within the **$120 to $160** range. Movements within this band should be responsive to the pricing behavior of competing sellers.\n",
    "\n",
    "Since marginal costs were not included in this analysis, there is justification for favoring prices at the **higher end of the range** to maximize profit. However, demand is observed to shrink significantly at prices above **$160**, suggesting diminishing returns beyond this threshold.\n",
    "\n",
    "---\n"
   ]
  },
  {
   "cell_type": "markdown",
   "id": "bdc1c6b0",
   "metadata": {},
   "source": [
    "\n",
    "## Challenges"
   ]
  },
  {
   "cell_type": "markdown",
   "id": "cd551041",
   "metadata": {},
   "source": [
    "\n",
    "\n",
    "### **1. Limited Data Availability**\n",
    "The dataset covers a relatively short period — from **January 2017 to August 2018** — with total monthly sales peaking at approximately **7,000 units**, while the product in question had only **193 units sold across 27 distinct price points**. This created two key challenges:\n",
    "\n",
    "- **Sparse coverage of the elasticity curve**, leading to high variability between worst-case, median, and best-case scenarios. This variability propagated into the expected revenue estimates.\n",
    "- The absence of a stable market environment makes it difficult to confidently attribute changes in demand solely to price changes, rather than external factors like fluctuating customer traffic.\n",
    "\n",
    "### **2. Lack of Marginal Cost Data**\n",
    "Without information on marginal costs, it is impossible to accurately determine profit-maximizing price points. This limits the ability to provide a complete pricing recommendation. However, the analysis still identified price thresholds — notably prices above **$160** — where demand begins to drop sharply, informing upper boundaries for pricing decisions.\n",
    "\n",
    "\n",
    "---\n",
    "\n"
   ]
  },
  {
   "cell_type": "markdown",
   "id": "5b163a6a",
   "metadata": {},
   "source": [
    "# 5. Conclusion"
   ]
  },
  {
   "cell_type": "markdown",
   "id": "8a10af15",
   "metadata": {},
   "source": [
    "\n",
    "The analysis reveals that optimal pricing for this product lies within the **$120-$160 range**, with prices above $160 showing diminishing returns due to steep demand deterioration. The modeling approach, which incorporated worst-case, median, and best-case scenarios through different expectiles, provides a robust framework for understanding demand uncertainty and making informed pricing decisions under varying market conditions.\n",
    "\n",
    "\n",
    "While the study faced limitations including sparse data coverage and the absence of marginal cost information, the methodology successfully identified key pricing thresholds and market dynamics. The competitive pricing behavior observed, particularly from seller **4869f7a5dfa277a7dca6462dcf3b52b2**, highlights the importance of monitoring competitor actions and adjusting pricing strategies accordingly.\n",
    "\n",
    "\n",
    "The insights gained from this model extend beyond the specific product analyzed. The framework demonstrates how businesses can leverage historical transactional data to understand price elasticity, even with limited datasets. The approach of modeling multiple expectiles provides a more comprehensive view of potential outcomes compared to traditional single-point estimates, enabling more confident decision-making in uncertain market environments.\n",
    "\n",
    "\n",
    "Moving forward, this model could be enhanced with additional data sources, including competitor pricing intelligence, seasonal demand patterns, and cost structure information. Nevertheless, the current analysis provides a solid foundation for data-driven pricing decisions and illustrates the practical value of applying advanced analytics to e-commerce pricing optimization."
   ]
  }
 ],
 "metadata": {
  "kernelspec": {
   "display_name": "Python 3",
   "language": "python",
   "name": "python3"
  },
  "language_info": {
   "codemirror_mode": {
    "name": "ipython",
    "version": 3
   },
   "file_extension": ".py",
   "mimetype": "text/x-python",
   "name": "python",
   "nbconvert_exporter": "python",
   "pygments_lexer": "ipython3",
   "version": "3.11.9"
  }
 },
 "nbformat": 4,
 "nbformat_minor": 5
}
